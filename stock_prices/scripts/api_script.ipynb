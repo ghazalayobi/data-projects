{
 "cells": [
  {
   "cell_type": "code",
   "execution_count": 3,
   "metadata": {},
   "outputs": [],
   "source": [
    "import yfinance as yf\n",
    "import pandas as pd\n",
    "from datetime import datetime, timedelta\n",
    "import os"
   ]
  },
  {
   "cell_type": "code",
   "execution_count": 6,
   "metadata": {},
   "outputs": [
    {
     "name": "stderr",
     "output_type": "stream",
     "text": [
      "[                       0%                       ]"
     ]
    },
    {
     "name": "stderr",
     "output_type": "stream",
     "text": [
      "[*********************100%***********************]  73 of 73 completed\n"
     ]
    }
   ],
   "source": [
    "\n",
    "# Defining sectors\n",
    "sectors = {\n",
    "    \"Technology\": ['AAPL', 'MSFT', 'ORCL', 'CRM', 'INTU', 'ADBE', 'AVGO', 'TXN', 'AMD', 'MU'],\n",
    "    \"Consumer_Discretionary\": ['AMZN', 'TSLA', 'HD', 'MCD', 'NKE', 'SBUX', 'TGT', 'LOW', 'BKNG', 'RCL'],\n",
    "    \"Communication_Services\": ['GOOGL', 'META', 'NFLX', 'T', 'VZ', 'DIS', 'TMUS', 'CHTR', 'WBD', 'PARA'],\n",
    "    \"Healthcare\": ['JNJ', 'PFE', 'MRK', 'ABT', 'LLY', 'UNH', 'TMO', 'BMY', 'AMGN', 'CVS'],\n",
    "    \"Financials\": ['JPM', 'BAC', 'WFC', 'GS', 'MS', 'AXP', 'C', 'BLK', 'TFC', 'SCHW'],\n",
    "    \"Industrials\": ['HON', 'UPS', 'CAT', 'BA', 'GE', 'MMM', 'LMT', 'DE', 'RTX', 'CSX'],\n",
    "    \"Energy\": ['XOM', 'CVX', 'COP', 'SLB', 'PSX', 'EOG', 'MPC', 'VLO', 'BKR', 'OXY']\n",
    "}\n",
    "\n",
    "# Defining indices\n",
    "indices = {\n",
    "    \"S&P_500\": '^GSPC',\n",
    "    \"NASDAQ_Composite\": '^IXIC',\n",
    "    \"Dow_Jones\": '^DJI'\n",
    "}\n",
    "\n",
    " # Combining all tickers\n",
    "all_tickers = [ticker for sector in sectors.values() for ticker in sector] + list(indices.values())\n",
    "\n",
    "# Define timeframe\n",
    "start_date = \"2024-07-01\"\n",
    "end_date = \"2025-06-30\"  # Adjust the end date as needed, e.g.,\n",
    "# end_date =  datetime.today().strftime('%Y-%m-%d')  # Uncomment to use today's date\n",
    "\n",
    "# Download historical data\n",
    "data = yf.download(all_tickers, start=start_date, end=end_date, auto_adjust=False)['Adj Close']\n",
    "df = data.reset_index().melt(id_vars='Date', var_name='Ticker', value_name='Adj_Close')\n",
    "# Save raw data\n",
    "df.to_csv(\"~/portfolio_projects/stocks/Data/multi_sector_with_indices.csv\")"
   ]
  },
  {
   "cell_type": "code",
   "execution_count": 8,
   "metadata": {},
   "outputs": [],
   "source": [
    "# Prepare metadata\n",
    "metadata = []\n",
    "\n",
    "for sector, tickers in sectors.items():\n",
    "    for ticker in tickers:\n",
    "        metadata.append({\"Ticker\": ticker, \"Sector\": sector, \"Type\": \"Stock\"})\n",
    "\n",
    "for name, ticker in indices.items():\n",
    "    metadata.append({\"Ticker\": ticker, \"Sector\": name, \"Type\": \"Index\"})\n",
    "\n",
    "metadata_df = pd.DataFrame(metadata)\n",
    "metadata_df.to_csv(\"~/portfolio_projects/stocks/Data/ticker_metadata.csv\", index=False)"
   ]
  },
  {
   "cell_type": "code",
   "execution_count": 9,
   "metadata": {},
   "outputs": [],
   "source": [
    "merged_df = pd.merge(df, metadata_df, on=\"Ticker\", how=\"left\")"
   ]
  },
  {
   "cell_type": "code",
   "execution_count": 10,
   "metadata": {},
   "outputs": [],
   "source": [
    "merged_df.to_csv(\"~/portfolio_projects/stocks/Data/merged_sector_index_data.csv\", index=False)"
   ]
  },
  {
   "cell_type": "code",
   "execution_count": null,
   "metadata": {},
   "outputs": [],
   "source": []
  }
 ],
 "metadata": {
  "kernelspec": {
   "display_name": ".venv",
   "language": "python",
   "name": "python3"
  },
  "language_info": {
   "codemirror_mode": {
    "name": "ipython",
    "version": 3
   },
   "file_extension": ".py",
   "mimetype": "text/x-python",
   "name": "python",
   "nbconvert_exporter": "python",
   "pygments_lexer": "ipython3",
   "version": "3.11.2"
  }
 },
 "nbformat": 4,
 "nbformat_minor": 2
}
